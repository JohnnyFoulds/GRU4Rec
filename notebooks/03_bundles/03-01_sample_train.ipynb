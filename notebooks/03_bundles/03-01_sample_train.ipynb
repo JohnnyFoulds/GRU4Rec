{
 "cells": [
  {
   "cell_type": "markdown",
   "metadata": {},
   "source": [
    "# 03-01 : Training on 10% sample"
   ]
  },
  {
   "cell_type": "code",
   "execution_count": 1,
   "metadata": {},
   "outputs": [],
   "source": [
    "import os\n",
    "\n",
    "# go to the directory of the run script\n",
    "os.chdir('../../')"
   ]
  },
  {
   "cell_type": "code",
   "execution_count": 2,
   "metadata": {},
   "outputs": [],
   "source": [
    "import pandas as pd"
   ]
  },
  {
   "cell_type": "markdown",
   "metadata": {},
   "source": [
    "## File Paths"
   ]
  },
  {
   "cell_type": "code",
   "execution_count": 3,
   "metadata": {},
   "outputs": [],
   "source": [
    "model_path = \"./models\"\n",
    "source_path = \"/home/johnny/swan/code/dsm500-2023-oct/data/07_trans4rec/07-02_bundle_10\"\n",
    "data_path = \"./data/subs_bundl/10\"\n",
    "\n",
    "\n",
    "train_file = \"bundle_only_view_train_tr\"\n",
    "test_file = \"bundle_only_view_test\"\n",
    "\n",
    "train_path = f\"{data_path}/{train_file}.tsv\" \n",
    "test_path = f\"{data_path}/{test_file}.tsv\" "
   ]
  },
  {
   "cell_type": "markdown",
   "metadata": {},
   "source": [
    "## Preprocessing"
   ]
  },
  {
   "cell_type": "code",
   "execution_count": 4,
   "metadata": {},
   "outputs": [],
   "source": [
    "# load the source data\n",
    "df_train_source = pd.read_parquet(f\"{source_path}/{train_file}.parquet.gz\", engine='pyarrow')\n",
    "df_test_source = pd.read_parquet(f\"{source_path}/{test_file}.parquet.gz\", engine='pyarrow')\n",
    "\n",
    "# rename the UserId to SessionId\n",
    "df_train_source.rename(columns={'UserId': 'SessionId'}, inplace=True)\n",
    "df_test_source.rename(columns={'UserId': 'SessionId'}, inplace=True)\n",
    "\n",
    "# sort the data by SessionId and Timestamp\n",
    "df_train_source.sort_values(by=['SessionId', 'Time'], inplace=True)\n",
    "df_test_source.sort_values(by=['SessionId', 'Time'], inplace=True)\n",
    "\n",
    "# save to tsv\n",
    "df_train_source.to_csv(train_path, sep='\\t', index=False)\n",
    "df_test_source.to_csv(test_path, sep='\\t', index=False)"
   ]
  },
  {
   "cell_type": "markdown",
   "metadata": {},
   "source": [
    "## Create Run Script"
   ]
  },
  {
   "cell_type": "code",
   "execution_count": 6,
   "metadata": {},
   "outputs": [],
   "source": [
    "def create_gru4rec_script(train_path:str,\n",
    "                          test_path:str,\n",
    "                          model_path:str,\n",
    "                          pf:str,\n",
    "                          m:str='1 5 10 20',\n",
    "                          d:str='GPU:0') -> str:\n",
    "    \"\"\"\n",
    "    Creates a script to run the GRU4Rec model\n",
    "    \"\"\"\n",
    "    return f\"{train_path} -t {test_path} -m {m} -pf {pf} -d {d} -s {model_path}\""
   ]
  },
  {
   "cell_type": "markdown",
   "metadata": {},
   "source": [
    "## Coveo Params "
   ]
  },
  {
   "cell_type": "code",
   "execution_count": 7,
   "metadata": {},
   "outputs": [
    {
     "name": "stdout",
     "output_type": "stream",
     "text": [
      "./data/subs_bundl/10/bundle_only_view_train_tr.tsv -t ./data/subs_bundl/10/bundle_only_view_test.tsv -m 1 5 10 20 -pf ./paramfiles/coveo_bprmax_shared_best.py -d GPU:0 -s ./models/sub_bundl_10_coveo.pickle\n"
     ]
    }
   ],
   "source": [
    "# best hyperparameters\n",
    "paramfile = \"./paramfiles/coveo_bprmax_shared_best.py\"\n",
    "\n",
    "# create the script\n",
    "run_script = create_gru4rec_script(\n",
    "    train_path=train_path,\n",
    "    test_path=test_path,\n",
    "    model_path=f\"{model_path}/sub_bundl_10_coveo.pickle\",\n",
    "\n",
    "    pf=paramfile\n",
    ")\n",
    "\n",
    "print(run_script)"
   ]
  },
  {
   "cell_type": "code",
   "execution_count": 8,
   "metadata": {},
   "outputs": [
    {
     "name": "stderr",
     "output_type": "stream",
     "text": [
      "2024-02-07 03:47:43.993828: E external/local_xla/xla/stream_executor/cuda/cuda_dnn.cc:9261] Unable to register cuDNN factory: Attempting to register factory for plugin cuDNN when one has already been registered\n",
      "2024-02-07 03:47:43.993857: E external/local_xla/xla/stream_executor/cuda/cuda_fft.cc:607] Unable to register cuFFT factory: Attempting to register factory for plugin cuFFT when one has already been registered\n",
      "2024-02-07 03:47:43.994731: E external/local_xla/xla/stream_executor/cuda/cuda_blas.cc:1515] Unable to register cuBLAS factory: Attempting to register factory for plugin cuBLAS when one has already been registered\n",
      "2024-02-07 03:47:43.998093: I tensorflow/core/platform/cpu_feature_guard.cc:182] This TensorFlow binary is optimized to use available CPU instructions in performance-critical operations.\n",
      "To enable the following instructions: AVX2 FMA, in other operations, rebuild TensorFlow with the appropriate compiler flags.\n",
      "2024-02-07 03:47:44.490693: W tensorflow/compiler/tf2tensorrt/utils/py_utils.cc:38] TF-TRT Warning: Could not find TensorRT\n",
      "2024-02-07 03:47:44.905984: I external/local_xla/xla/stream_executor/cuda/cuda_executor.cc:901] successful NUMA node read from SysFS had negative value (-1), but there must be at least one NUMA node, so returning NUMA node zero. See more at https://github.com/torvalds/linux/blob/v6.0/Documentation/ABI/testing/sysfs-bus-pci#L344-L355\n",
      "2024-02-07 03:47:44.936985: I external/local_xla/xla/stream_executor/cuda/cuda_executor.cc:901] successful NUMA node read from SysFS had negative value (-1), but there must be at least one NUMA node, so returning NUMA node zero. See more at https://github.com/torvalds/linux/blob/v6.0/Documentation/ABI/testing/sysfs-bus-pci#L344-L355\n",
      "2024-02-07 03:47:44.937180: I external/local_xla/xla/stream_executor/cuda/cuda_executor.cc:901] successful NUMA node read from SysFS had negative value (-1), but there must be at least one NUMA node, so returning NUMA node zero. See more at https://github.com/torvalds/linux/blob/v6.0/Documentation/ABI/testing/sysfs-bus-pci#L344-L355\n",
      "2024-02-07 03:47:44.938149: I external/local_xla/xla/stream_executor/cuda/cuda_executor.cc:901] successful NUMA node read from SysFS had negative value (-1), but there must be at least one NUMA node, so returning NUMA node zero. See more at https://github.com/torvalds/linux/blob/v6.0/Documentation/ABI/testing/sysfs-bus-pci#L344-L355\n",
      "2024-02-07 03:47:44.938321: I external/local_xla/xla/stream_executor/cuda/cuda_executor.cc:901] successful NUMA node read from SysFS had negative value (-1), but there must be at least one NUMA node, so returning NUMA node zero. See more at https://github.com/torvalds/linux/blob/v6.0/Documentation/ABI/testing/sysfs-bus-pci#L344-L355\n",
      "2024-02-07 03:47:44.938466: I external/local_xla/xla/stream_executor/cuda/cuda_executor.cc:901] successful NUMA node read from SysFS had negative value (-1), but there must be at least one NUMA node, so returning NUMA node zero. See more at https://github.com/torvalds/linux/blob/v6.0/Documentation/ABI/testing/sysfs-bus-pci#L344-L355\n",
      "2024-02-07 03:47:45.866808: I external/local_xla/xla/stream_executor/cuda/cuda_executor.cc:901] successful NUMA node read from SysFS had negative value (-1), but there must be at least one NUMA node, so returning NUMA node zero. See more at https://github.com/torvalds/linux/blob/v6.0/Documentation/ABI/testing/sysfs-bus-pci#L344-L355\n",
      "2024-02-07 03:47:45.866983: I external/local_xla/xla/stream_executor/cuda/cuda_executor.cc:901] successful NUMA node read from SysFS had negative value (-1), but there must be at least one NUMA node, so returning NUMA node zero. See more at https://github.com/torvalds/linux/blob/v6.0/Documentation/ABI/testing/sysfs-bus-pci#L344-L355\n",
      "2024-02-07 03:47:45.867137: I external/local_xla/xla/stream_executor/cuda/cuda_executor.cc:901] successful NUMA node read from SysFS had negative value (-1), but there must be at least one NUMA node, so returning NUMA node zero. See more at https://github.com/torvalds/linux/blob/v6.0/Documentation/ABI/testing/sysfs-bus-pci#L344-L355\n",
      "2024-02-07 03:47:45.867346: I tensorflow/core/common_runtime/gpu/gpu_device.cc:1929] Created device /job:localhost/replica:0/task:0/device:GPU:0 with 9901 MB memory:  -> device: 0, name: NVIDIA GeForce RTX 3080 Ti, pci bus id: 0000:08:00.0, compute capability: 8.6\n"
     ]
    },
    {
     "name": "stdout",
     "output_type": "stream",
     "text": [
      "Loaded parameters from file: /media/johnny/swan/code/GRU4Rec/paramfiles/coveo_bprmax_shared_best.py\n",
      "Creating GRU4Rec model\n",
      "SET   loss                    TO   bpr-max   (type: <class 'str'>)\n",
      "SET   constrained_embedding   TO   True      (type: <class 'bool'>)\n",
      "SET   embedding               TO   0         (type: <class 'int'>)\n",
      "SET   elu_param               TO   1.0       (type: <class 'float'>)\n",
      "SET   layers                  TO   [512]     (type: <class 'list'>)\n",
      "SET   n_epochs                TO   10        (type: <class 'int'>)\n",
      "SET   batch_size              TO   144       (type: <class 'int'>)\n",
      "SET   dropout_p_embed         TO   0.35      (type: <class 'float'>)\n",
      "SET   dropout_p_hidden        TO   0.0       (type: <class 'float'>)\n",
      "SET   learning_rate           TO   0.05      (type: <class 'float'>)\n",
      "SET   momentum                TO   0.4       (type: <class 'float'>)\n",
      "SET   n_sample                TO   2048      (type: <class 'int'>)\n",
      "SET   sample_alpha            TO   0.2       (type: <class 'float'>)\n",
      "SET   bpreg                   TO   1.85      (type: <class 'float'>)\n",
      "SET   logq                    TO   0.0       (type: <class 'float'>)\n",
      "Loading training data...\n",
      "Loading data from TAB separated file: ./data/subs_bundl/10/bundle_only_view_train_tr.tsv\n",
      "Started training\n",
      "The dataframe is already sorted by SessionId, Time\n",
      "Created sample store with 4882 batches of samples (type=GPU)\n"
     ]
    },
    {
     "name": "stderr",
     "output_type": "stream",
     "text": [
      "2024-02-07 03:47:56.878320: I external/local_tsl/tsl/platform/default/subprocess.cc:304] Start cannot spawn child process: No such file or directory\n"
     ]
    },
    {
     "name": "stdout",
     "output_type": "stream",
     "text": [
      "WARNING:tensorflow:5 out of the last 217306 calls to <function GRU4Rec._training_step at 0x7f6b8c4dacb0> triggered tf.function retracing. Tracing is expensive and the excessive number of tracings could be due to (1) creating @tf.function repeatedly in a loop, (2) passing tensors with different shapes, (3) passing Python objects instead of tensors. For (1), please define your @tf.function outside of the loop. For (2), @tf.function has reduce_retracing=True option that can avoid unnecessary retracing. For (3), please refer to https://www.tensorflow.org/guide/function#controlling_retracing and https://www.tensorflow.org/api_docs/python/tf/function for  more details.\n",
      "WARNING:tensorflow:6 out of the last 217307 calls to <function GRU4Rec._training_step at 0x7f6b8c4dacb0> triggered tf.function retracing. Tracing is expensive and the excessive number of tracings could be due to (1) creating @tf.function repeatedly in a loop, (2) passing tensors with different shapes, (3) passing Python objects instead of tensors. For (1), please define your @tf.function outside of the loop. For (2), @tf.function has reduce_retracing=True option that can avoid unnecessary retracing. For (3), please refer to https://www.tensorflow.org/guide/function#controlling_retracing and https://www.tensorflow.org/api_docs/python/tf/function for  more details.\n",
      "Epoch1 --> loss: 0.382291 \t(521.11s) \t[417.01 mb/s | 60048 e/s]\n",
      "Epoch2 --> loss: 0.378574 \t(517.93s) \t[419.57 mb/s | 60416 e/s]\n",
      "Epoch3 --> loss: 0.377484 \t(512.51s) \t[424.00 mb/s | 61055 e/s]\n",
      "Epoch4 --> loss: 0.376963 \t(513.44s) \t[423.24 mb/s | 60945 e/s]\n",
      "Epoch5 --> loss: 0.376636 \t(518.88s) \t[418.80 mb/s | 60306 e/s]\n",
      "Epoch6 --> loss: 0.376400 \t(514.63s) \t[422.26 mb/s | 60804 e/s]\n",
      "Epoch7 --> loss: 0.376197 \t(507.93s) \t[427.83 mb/s | 61606 e/s]\n",
      "Epoch8 --> loss: 0.376053 \t(518.04s) \t[419.48 mb/s | 60404 e/s]\n",
      "Epoch9 --> loss: 0.375946 \t(509.08s) \t[426.86 mb/s | 61467 e/s]\n",
      "Epoch10 --> loss: 0.375844 \t(513.73s) \t[423.00 mb/s | 60910 e/s]\n",
      "Total training time: 5153.05s\n",
      "Saving trained model to: ./models/sub_bundl_10_coveo.pickle\n",
      "Loading test data...\n",
      "Loading data from TAB separated file: ./data/subs_bundl/10/bundle_only_view_test.tsv\n",
      "Starting evaluation (cut-off=[1, 5, 10, 20], using standard mode for tiebreaking)\n",
      "Using existing item ID map\n",
      "The dataframe is already sorted by SessionId, Time\n",
      "Evaluation took 124.02s\n",
      "Recall@1: 0.634148 MRR@1: 0.634148\n",
      "Recall@5: 0.832145 MRR@5: 0.712607\n",
      "Recall@10: 0.883485 MRR@10: 0.719547\n",
      "Recall@20: 0.924069 MRR@20: 0.722393\n"
     ]
    }
   ],
   "source": [
    "%run run.py $run_script"
   ]
  },
  {
   "cell_type": "markdown",
   "metadata": {},
   "source": [
    "## Diginetica Params "
   ]
  },
  {
   "cell_type": "code",
   "execution_count": 10,
   "metadata": {},
   "outputs": [
    {
     "name": "stdout",
     "output_type": "stream",
     "text": [
      "./data/subs_bundl/10/bundle_only_view_train_tr.tsv -t ./data/subs_bundl/10/bundle_only_view_test.tsv -m 1 5 10 20 -pf ./paramfiles/diginetica_bprmax_shared_best.py -d GPU:0 -s ./models/sub_bundl_10_diginetica.pickle\n"
     ]
    }
   ],
   "source": [
    "# create the script\n",
    "run_script = create_gru4rec_script(\n",
    "    train_path=train_path,\n",
    "    test_path=test_path,\n",
    "    model_path=f\"{model_path}/sub_bundl_10_diginetica.pickle\",\n",
    "    pf=\"./paramfiles/diginetica_bprmax_shared_best.py\"\n",
    ")\n",
    "\n",
    "print(run_script)"
   ]
  },
  {
   "cell_type": "code",
   "execution_count": 11,
   "metadata": {},
   "outputs": [
    {
     "name": "stdout",
     "output_type": "stream",
     "text": [
      "Loaded parameters from file: /media/johnny/swan/code/GRU4Rec/paramfiles/diginetica_bprmax_shared_best.py\n",
      "Creating GRU4Rec model\n",
      "SET   loss                    TO   bpr-max   (type: <class 'str'>)\n",
      "SET   constrained_embedding   TO   True      (type: <class 'bool'>)\n",
      "SET   embedding               TO   0         (type: <class 'int'>)\n",
      "SET   elu_param               TO   1.0       (type: <class 'float'>)\n",
      "SET   layers                  TO   [512]     (type: <class 'list'>)\n",
      "SET   n_epochs                TO   10        (type: <class 'int'>)\n",
      "SET   batch_size              TO   128       (type: <class 'int'>)\n",
      "SET   dropout_p_embed         TO   0.5       (type: <class 'float'>)\n",
      "SET   dropout_p_hidden        TO   0.3       (type: <class 'float'>)\n",
      "SET   learning_rate           TO   0.05      (type: <class 'float'>)\n",
      "SET   momentum                TO   0.15      (type: <class 'float'>)\n",
      "SET   n_sample                TO   2048      (type: <class 'int'>)\n",
      "SET   sample_alpha            TO   0.3       (type: <class 'float'>)\n",
      "SET   bpreg                   TO   0.9       (type: <class 'float'>)\n",
      "SET   logq                    TO   0.0       (type: <class 'float'>)\n",
      "Loading training data...\n",
      "Loading data from TAB separated file: ./data/subs_bundl/10/bundle_only_view_train_tr.tsv\n",
      "Started training\n",
      "The dataframe is already sorted by SessionId, Time\n",
      "Created sample store with 4882 batches of samples (type=GPU)\n"
     ]
    }
   ],
   "source": [
    "%run run.py $run_script"
   ]
  }
 ],
 "metadata": {
  "kernelspec": {
   "display_name": "dsm500",
   "language": "python",
   "name": "python3"
  },
  "language_info": {
   "codemirror_mode": {
    "name": "ipython",
    "version": 3
   },
   "file_extension": ".py",
   "mimetype": "text/x-python",
   "name": "python",
   "nbconvert_exporter": "python",
   "pygments_lexer": "ipython3",
   "version": "3.10.13"
  }
 },
 "nbformat": 4,
 "nbformat_minor": 2
}
