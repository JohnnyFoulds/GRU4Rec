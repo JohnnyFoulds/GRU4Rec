{
 "cells": [
  {
   "cell_type": "markdown",
   "metadata": {},
   "source": [
    "# 02-03 Rees46 Training"
   ]
  },
  {
   "cell_type": "code",
   "execution_count": 1,
   "metadata": {},
   "outputs": [],
   "source": [
    "import os\n",
    "\n",
    "# go to the directory of the run script\n",
    "os.chdir('../../')"
   ]
  },
  {
   "cell_type": "markdown",
   "metadata": {},
   "source": [
    "## Configure Dataset Settings"
   ]
  },
  {
   "cell_type": "code",
   "execution_count": 2,
   "metadata": {},
   "outputs": [],
   "source": [
    "# set the main paths\n",
    "dataset_path = \"./data/Rees46/\"\n",
    "model_path = \"./models/rees46.pickle\"\n",
    "\n",
    "# best hyperparameters\n",
    "paramfile = \"./paramfiles/rees46_xe_shared_best.py\""
   ]
  },
  {
   "cell_type": "code",
   "execution_count": 3,
   "metadata": {},
   "outputs": [],
   "source": [
    "# get the training and test data paths\n",
    "train_path = os.path.join(dataset_path,\"rees46_processed_view_userbased_train_full.tsv\")\n",
    "test_path = os.path.join(dataset_path,\"rees46_processed_view_userbased_test.tsv\")"
   ]
  },
  {
   "cell_type": "markdown",
   "metadata": {},
   "source": [
    "## Create Run Script"
   ]
  },
  {
   "cell_type": "code",
   "execution_count": 4,
   "metadata": {},
   "outputs": [
    {
     "name": "stdout",
     "output_type": "stream",
     "text": [
      "./data/Rees46/rees46_processed_view_userbased_train_full.tsv -t ./data/Rees46/rees46_processed_view_userbased_test.tsv -m 1 5 10 20 -pf ./paramfiles/rees46_xe_shared_best.py -d GPU:0 -s ./models/rees46.pickle\n"
     ]
    }
   ],
   "source": [
    "def create_gru4rec_script(train_path:str,\n",
    "                          test_path:str,\n",
    "                          model_path:str,\n",
    "                          pf:str,\n",
    "                          m:str='1 5 10 20',\n",
    "                          d:str='GPU:0') -> str:\n",
    "    \"\"\"\n",
    "    Creates a script to run the GRU4Rec model\n",
    "    \"\"\"\n",
    "    return f\"{train_path} -t {test_path} -m {m} -pf {pf} -d {d} -s {model_path}\"\n",
    "\n",
    "# create the script\n",
    "run_script = create_gru4rec_script(\n",
    "    train_path=train_path,\n",
    "    test_path=test_path,\n",
    "    model_path=model_path,\n",
    "    pf=paramfile\n",
    ")\n",
    "\n",
    "print(run_script)"
   ]
  },
  {
   "cell_type": "markdown",
   "metadata": {},
   "source": [
    "## Train Model"
   ]
  },
  {
   "cell_type": "code",
   "execution_count": 5,
   "metadata": {},
   "outputs": [
    {
     "name": "stderr",
     "output_type": "stream",
     "text": [
      "2024-01-23 07:35:49.370894: E external/local_xla/xla/stream_executor/cuda/cuda_dnn.cc:9261] Unable to register cuDNN factory: Attempting to register factory for plugin cuDNN when one has already been registered\n",
      "2024-01-23 07:35:49.370922: E external/local_xla/xla/stream_executor/cuda/cuda_fft.cc:607] Unable to register cuFFT factory: Attempting to register factory for plugin cuFFT when one has already been registered\n",
      "2024-01-23 07:35:49.371959: E external/local_xla/xla/stream_executor/cuda/cuda_blas.cc:1515] Unable to register cuBLAS factory: Attempting to register factory for plugin cuBLAS when one has already been registered\n",
      "2024-01-23 07:35:49.376690: I tensorflow/core/platform/cpu_feature_guard.cc:182] This TensorFlow binary is optimized to use available CPU instructions in performance-critical operations.\n",
      "To enable the following instructions: AVX2 FMA, in other operations, rebuild TensorFlow with the appropriate compiler flags.\n",
      "2024-01-23 07:35:49.895628: W tensorflow/compiler/tf2tensorrt/utils/py_utils.cc:38] TF-TRT Warning: Could not find TensorRT\n",
      "2024-01-23 07:35:50.322211: I external/local_xla/xla/stream_executor/cuda/cuda_executor.cc:901] successful NUMA node read from SysFS had negative value (-1), but there must be at least one NUMA node, so returning NUMA node zero. See more at https://github.com/torvalds/linux/blob/v6.0/Documentation/ABI/testing/sysfs-bus-pci#L344-L355\n",
      "2024-01-23 07:35:50.353227: I external/local_xla/xla/stream_executor/cuda/cuda_executor.cc:901] successful NUMA node read from SysFS had negative value (-1), but there must be at least one NUMA node, so returning NUMA node zero. See more at https://github.com/torvalds/linux/blob/v6.0/Documentation/ABI/testing/sysfs-bus-pci#L344-L355\n",
      "2024-01-23 07:35:50.353408: I external/local_xla/xla/stream_executor/cuda/cuda_executor.cc:901] successful NUMA node read from SysFS had negative value (-1), but there must be at least one NUMA node, so returning NUMA node zero. See more at https://github.com/torvalds/linux/blob/v6.0/Documentation/ABI/testing/sysfs-bus-pci#L344-L355\n",
      "2024-01-23 07:35:50.354686: I external/local_xla/xla/stream_executor/cuda/cuda_executor.cc:901] successful NUMA node read from SysFS had negative value (-1), but there must be at least one NUMA node, so returning NUMA node zero. See more at https://github.com/torvalds/linux/blob/v6.0/Documentation/ABI/testing/sysfs-bus-pci#L344-L355\n",
      "2024-01-23 07:35:50.354848: I external/local_xla/xla/stream_executor/cuda/cuda_executor.cc:901] successful NUMA node read from SysFS had negative value (-1), but there must be at least one NUMA node, so returning NUMA node zero. See more at https://github.com/torvalds/linux/blob/v6.0/Documentation/ABI/testing/sysfs-bus-pci#L344-L355\n",
      "2024-01-23 07:35:50.354995: I external/local_xla/xla/stream_executor/cuda/cuda_executor.cc:901] successful NUMA node read from SysFS had negative value (-1), but there must be at least one NUMA node, so returning NUMA node zero. See more at https://github.com/torvalds/linux/blob/v6.0/Documentation/ABI/testing/sysfs-bus-pci#L344-L355\n",
      "2024-01-23 07:35:51.179683: I external/local_xla/xla/stream_executor/cuda/cuda_executor.cc:901] successful NUMA node read from SysFS had negative value (-1), but there must be at least one NUMA node, so returning NUMA node zero. See more at https://github.com/torvalds/linux/blob/v6.0/Documentation/ABI/testing/sysfs-bus-pci#L344-L355\n",
      "2024-01-23 07:35:51.179862: I external/local_xla/xla/stream_executor/cuda/cuda_executor.cc:901] successful NUMA node read from SysFS had negative value (-1), but there must be at least one NUMA node, so returning NUMA node zero. See more at https://github.com/torvalds/linux/blob/v6.0/Documentation/ABI/testing/sysfs-bus-pci#L344-L355\n",
      "2024-01-23 07:35:51.180018: I external/local_xla/xla/stream_executor/cuda/cuda_executor.cc:901] successful NUMA node read from SysFS had negative value (-1), but there must be at least one NUMA node, so returning NUMA node zero. See more at https://github.com/torvalds/linux/blob/v6.0/Documentation/ABI/testing/sysfs-bus-pci#L344-L355\n",
      "2024-01-23 07:35:51.180144: I tensorflow/core/common_runtime/gpu/gpu_device.cc:1929] Created device /job:localhost/replica:0/task:0/device:GPU:0 with 9803 MB memory:  -> device: 0, name: NVIDIA GeForce RTX 3080 Ti, pci bus id: 0000:08:00.0, compute capability: 8.6\n"
     ]
    },
    {
     "name": "stdout",
     "output_type": "stream",
     "text": [
      "Loaded parameters from file: /media/johnny/swan/code/GRU4Rec/paramfiles/rees46_xe_shared_best.py\n",
      "Creating GRU4Rec model\n",
      "SET   loss                    TO   cross-entropy   (type: <class 'str'>)\n",
      "SET   constrained_embedding   TO   True            (type: <class 'bool'>)\n",
      "SET   embedding               TO   0               (type: <class 'int'>)\n",
      "SET   elu_param               TO   0.0             (type: <class 'float'>)\n",
      "SET   layers                  TO   [512]           (type: <class 'list'>)\n",
      "SET   n_epochs                TO   10              (type: <class 'int'>)\n",
      "SET   batch_size              TO   240             (type: <class 'int'>)\n",
      "SET   dropout_p_embed         TO   0.45            (type: <class 'float'>)\n",
      "SET   dropout_p_hidden        TO   0.0             (type: <class 'float'>)\n",
      "SET   learning_rate           TO   0.065           (type: <class 'float'>)\n",
      "SET   momentum                TO   0.0             (type: <class 'float'>)\n",
      "SET   n_sample                TO   2048            (type: <class 'int'>)\n",
      "SET   sample_alpha            TO   0.5             (type: <class 'float'>)\n",
      "SET   bpreg                   TO   0.0             (type: <class 'float'>)\n",
      "SET   logq                    TO   1.0             (type: <class 'float'>)\n",
      "Loading training data...\n",
      "Loading data from TAB separated file: ./data/Rees46/rees46_processed_view_userbased_train_full.tsv\n",
      "Started training\n",
      "The dataframe is already sorted by SessionId, Time\n",
      "Created sample store with 4882 batches of samples (type=GPU)\n"
     ]
    },
    {
     "name": "stderr",
     "output_type": "stream",
     "text": [
      "2024-01-23 07:36:26.913406: I external/local_tsl/tsl/platform/default/subprocess.cc:304] Start cannot spawn child process: No such file or directory\n"
     ]
    },
    {
     "name": "stdout",
     "output_type": "stream",
     "text": [
      "WARNING:tensorflow:5 out of the last 239104 calls to <function GRU4Rec._training_step at 0x7f1ad1382830> triggered tf.function retracing. Tracing is expensive and the excessive number of tracings could be due to (1) creating @tf.function repeatedly in a loop, (2) passing tensors with different shapes, (3) passing Python objects instead of tensors. For (1), please define your @tf.function outside of the loop. For (2), @tf.function has reduce_retracing=True option that can avoid unnecessary retracing. For (3), please refer to https://www.tensorflow.org/guide/function#controlling_retracing and https://www.tensorflow.org/api_docs/python/tf/function for  more details.\n",
      "WARNING:tensorflow:6 out of the last 239105 calls to <function GRU4Rec._training_step at 0x7f1ad1382830> triggered tf.function retracing. Tracing is expensive and the excessive number of tracings could be due to (1) creating @tf.function repeatedly in a loop, (2) passing tensors with different shapes, (3) passing Python objects instead of tensors. For (1), please define your @tf.function outside of the loop. For (2), @tf.function has reduce_retracing=True option that can avoid unnecessary retracing. For (3), please refer to https://www.tensorflow.org/guide/function#controlling_retracing and https://www.tensorflow.org/api_docs/python/tf/function for  more details.\n",
      "Epoch1 --> loss: 6.446379 \t(473.35s) \t[505.23 mb/s | 121233 e/s]\n",
      "Epoch2 --> loss: 6.150175 \t(473.95s) \t[504.59 mb/s | 121079 e/s]\n",
      "Epoch3 --> loss: 6.064593 \t(475.41s) \t[503.04 mb/s | 120706 e/s]\n",
      "Epoch4 --> loss: 6.015041 \t(469.95s) \t[508.89 mb/s | 122110 e/s]\n",
      "Epoch5 --> loss: 5.979185 \t(468.56s) \t[510.39 mb/s | 122471 e/s]\n",
      "Epoch6 --> loss: 5.952285 \t(468.58s) \t[510.37 mb/s | 122466 e/s]\n",
      "Epoch7 --> loss: 5.930201 \t(468.58s) \t[510.37 mb/s | 122467 e/s]\n",
      "Epoch8 --> loss: 5.911892 \t(468.69s) \t[510.25 mb/s | 122437 e/s]\n",
      "Epoch9 --> loss: 5.896112 \t(469.10s) \t[509.80 mb/s | 122329 e/s]\n",
      "Epoch10 --> loss: 5.882713 \t(468.58s) \t[510.37 mb/s | 122465 e/s]\n",
      "Total training time: 4727.46s\n",
      "Saving trained model to: ./models/rees46.pickle\n",
      "Loading test data...\n",
      "Loading data from TAB separated file: ./data/Rees46/rees46_processed_view_userbased_test.tsv\n",
      "Starting evaluation (cut-off=[1, 5, 10, 20], using standard mode for tiebreaking)\n",
      "Using existing item ID map\n",
      "The dataframe is already sorted by SessionId, Time\n",
      "Evaluation took 347.89s\n",
      "Recall@1: 0.111882 MRR@1: 0.111882\n",
      "Recall@5: 0.301453 MRR@5: 0.178254\n",
      "Recall@10: 0.413747 MRR@10: 0.193206\n",
      "Recall@20: 0.529540 MRR@20: 0.201261\n"
     ]
    }
   ],
   "source": [
    "%run run.py $run_script"
   ]
  }
 ],
 "metadata": {
  "kernelspec": {
   "display_name": "dsm500",
   "language": "python",
   "name": "python3"
  },
  "language_info": {
   "codemirror_mode": {
    "name": "ipython",
    "version": 3
   },
   "file_extension": ".py",
   "mimetype": "text/x-python",
   "name": "python",
   "nbconvert_exporter": "python",
   "pygments_lexer": "ipython3",
   "version": "3.10.13"
  }
 },
 "nbformat": 4,
 "nbformat_minor": 2
}
