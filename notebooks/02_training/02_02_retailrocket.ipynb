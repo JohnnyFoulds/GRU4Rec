{
 "cells": [
  {
   "cell_type": "markdown",
   "metadata": {},
   "source": [
    "# 02-01 RetailRocket Training"
   ]
  },
  {
   "cell_type": "code",
   "execution_count": 1,
   "metadata": {},
   "outputs": [],
   "source": [
    "import os\n",
    "\n",
    "# go to the directory of the run script\n",
    "os.chdir('../../')\n"
   ]
  },
  {
   "cell_type": "markdown",
   "metadata": {},
   "source": [
    "## Configure Dataset Settings"
   ]
  },
  {
   "cell_type": "code",
   "execution_count": 2,
   "metadata": {},
   "outputs": [],
   "source": [
    "# set the main paths\n",
    "dataset_path = \"./data/RetailRocket/\"\n",
    "model_path = \"./models/retailrocket.pickle\"\n",
    "\n",
    "# best hyperparameters\n",
    "paramfile = \"./paramfiles/retailrocket_bprmax_shared_best.py\""
   ]
  },
  {
   "cell_type": "code",
   "execution_count": 3,
   "metadata": {},
   "outputs": [],
   "source": [
    "# get the training and test data paths\n",
    "train_path = os.path.join(dataset_path,\"retailrocket_processed_view_train_full.tsv\")\n",
    "test_path = os.path.join(dataset_path,\"retailrocket_processed_view_test.tsv\")"
   ]
  },
  {
   "cell_type": "markdown",
   "metadata": {},
   "source": [
    "## Create Run Script"
   ]
  },
  {
   "cell_type": "code",
   "execution_count": 4,
   "metadata": {},
   "outputs": [
    {
     "name": "stdout",
     "output_type": "stream",
     "text": [
      "./data/RetailRocket/retailrocket_processed_view_train_full.tsv -t ./data/RetailRocket/retailrocket_processed_view_test.tsv -m 1 5 10 20 -pf ./paramfiles/retailrocket_bprmax_shared_best.py -d GPU:0 -s ./models/retailrocket.pickle\n"
     ]
    }
   ],
   "source": [
    "def create_gru4rec_script(train_path:str,\n",
    "                          test_path:str,\n",
    "                          model_path:str,\n",
    "                          pf:str,\n",
    "                          m:str='1 5 10 20',\n",
    "                          d:str='GPU:0') -> str:\n",
    "    \"\"\"\n",
    "    Creates a script to run the GRU4Rec model\n",
    "    \"\"\"\n",
    "    return f\"{train_path} -t {test_path} -m {m} -pf {pf} -d {d} -s {model_path}\"\n",
    "\n",
    "# create the script\n",
    "run_script = create_gru4rec_script(\n",
    "    train_path=train_path,\n",
    "    test_path=test_path,\n",
    "    model_path=model_path,\n",
    "    pf=paramfile\n",
    ")\n",
    "\n",
    "print(run_script)"
   ]
  },
  {
   "cell_type": "markdown",
   "metadata": {},
   "source": [
    "## Train Model"
   ]
  },
  {
   "cell_type": "code",
   "execution_count": 5,
   "metadata": {},
   "outputs": [
    {
     "name": "stderr",
     "output_type": "stream",
     "text": [
      "2024-01-23 07:19:42.071150: E external/local_xla/xla/stream_executor/cuda/cuda_dnn.cc:9261] Unable to register cuDNN factory: Attempting to register factory for plugin cuDNN when one has already been registered\n",
      "2024-01-23 07:19:42.071179: E external/local_xla/xla/stream_executor/cuda/cuda_fft.cc:607] Unable to register cuFFT factory: Attempting to register factory for plugin cuFFT when one has already been registered\n",
      "2024-01-23 07:19:42.072200: E external/local_xla/xla/stream_executor/cuda/cuda_blas.cc:1515] Unable to register cuBLAS factory: Attempting to register factory for plugin cuBLAS when one has already been registered\n",
      "2024-01-23 07:19:42.077100: I tensorflow/core/platform/cpu_feature_guard.cc:182] This TensorFlow binary is optimized to use available CPU instructions in performance-critical operations.\n",
      "To enable the following instructions: AVX2 FMA, in other operations, rebuild TensorFlow with the appropriate compiler flags.\n",
      "2024-01-23 07:19:42.591955: W tensorflow/compiler/tf2tensorrt/utils/py_utils.cc:38] TF-TRT Warning: Could not find TensorRT\n",
      "2024-01-23 07:19:43.030538: I external/local_xla/xla/stream_executor/cuda/cuda_executor.cc:901] successful NUMA node read from SysFS had negative value (-1), but there must be at least one NUMA node, so returning NUMA node zero. See more at https://github.com/torvalds/linux/blob/v6.0/Documentation/ABI/testing/sysfs-bus-pci#L344-L355\n",
      "2024-01-23 07:19:43.061366: I external/local_xla/xla/stream_executor/cuda/cuda_executor.cc:901] successful NUMA node read from SysFS had negative value (-1), but there must be at least one NUMA node, so returning NUMA node zero. See more at https://github.com/torvalds/linux/blob/v6.0/Documentation/ABI/testing/sysfs-bus-pci#L344-L355\n",
      "2024-01-23 07:19:43.061572: I external/local_xla/xla/stream_executor/cuda/cuda_executor.cc:901] successful NUMA node read from SysFS had negative value (-1), but there must be at least one NUMA node, so returning NUMA node zero. See more at https://github.com/torvalds/linux/blob/v6.0/Documentation/ABI/testing/sysfs-bus-pci#L344-L355\n",
      "2024-01-23 07:19:43.062788: I external/local_xla/xla/stream_executor/cuda/cuda_executor.cc:901] successful NUMA node read from SysFS had negative value (-1), but there must be at least one NUMA node, so returning NUMA node zero. See more at https://github.com/torvalds/linux/blob/v6.0/Documentation/ABI/testing/sysfs-bus-pci#L344-L355\n",
      "2024-01-23 07:19:43.062955: I external/local_xla/xla/stream_executor/cuda/cuda_executor.cc:901] successful NUMA node read from SysFS had negative value (-1), but there must be at least one NUMA node, so returning NUMA node zero. See more at https://github.com/torvalds/linux/blob/v6.0/Documentation/ABI/testing/sysfs-bus-pci#L344-L355\n",
      "2024-01-23 07:19:43.063099: I external/local_xla/xla/stream_executor/cuda/cuda_executor.cc:901] successful NUMA node read from SysFS had negative value (-1), but there must be at least one NUMA node, so returning NUMA node zero. See more at https://github.com/torvalds/linux/blob/v6.0/Documentation/ABI/testing/sysfs-bus-pci#L344-L355\n",
      "2024-01-23 07:19:44.079385: I external/local_xla/xla/stream_executor/cuda/cuda_executor.cc:901] successful NUMA node read from SysFS had negative value (-1), but there must be at least one NUMA node, so returning NUMA node zero. See more at https://github.com/torvalds/linux/blob/v6.0/Documentation/ABI/testing/sysfs-bus-pci#L344-L355\n",
      "2024-01-23 07:19:44.079563: I external/local_xla/xla/stream_executor/cuda/cuda_executor.cc:901] successful NUMA node read from SysFS had negative value (-1), but there must be at least one NUMA node, so returning NUMA node zero. See more at https://github.com/torvalds/linux/blob/v6.0/Documentation/ABI/testing/sysfs-bus-pci#L344-L355\n",
      "2024-01-23 07:19:44.079717: I external/local_xla/xla/stream_executor/cuda/cuda_executor.cc:901] successful NUMA node read from SysFS had negative value (-1), but there must be at least one NUMA node, so returning NUMA node zero. See more at https://github.com/torvalds/linux/blob/v6.0/Documentation/ABI/testing/sysfs-bus-pci#L344-L355\n",
      "2024-01-23 07:19:44.079841: I tensorflow/core/common_runtime/gpu/gpu_device.cc:1929] Created device /job:localhost/replica:0/task:0/device:GPU:0 with 9784 MB memory:  -> device: 0, name: NVIDIA GeForce RTX 3080 Ti, pci bus id: 0000:08:00.0, compute capability: 8.6\n"
     ]
    },
    {
     "name": "stdout",
     "output_type": "stream",
     "text": [
      "Loaded parameters from file: /media/johnny/swan/code/GRU4Rec/paramfiles/retailrocket_bprmax_shared_best.py\n",
      "Creating GRU4Rec model\n",
      "SET   loss                    TO   bpr-max   (type: <class 'str'>)\n",
      "SET   constrained_embedding   TO   True      (type: <class 'bool'>)\n",
      "SET   embedding               TO   0         (type: <class 'int'>)\n",
      "SET   elu_param               TO   0.5       (type: <class 'float'>)\n",
      "SET   layers                  TO   [224]     (type: <class 'list'>)\n",
      "SET   n_epochs                TO   10        (type: <class 'int'>)\n",
      "SET   batch_size              TO   80        (type: <class 'int'>)\n",
      "SET   dropout_p_embed         TO   0.5       (type: <class 'float'>)\n",
      "SET   dropout_p_hidden        TO   0.05      (type: <class 'float'>)\n",
      "SET   learning_rate           TO   0.05      (type: <class 'float'>)\n",
      "SET   momentum                TO   0.4       (type: <class 'float'>)\n",
      "SET   n_sample                TO   2048      (type: <class 'int'>)\n",
      "SET   sample_alpha            TO   0.4       (type: <class 'float'>)\n",
      "SET   bpreg                   TO   1.95      (type: <class 'float'>)\n",
      "SET   logq                    TO   0.0       (type: <class 'float'>)\n",
      "Loading training data...\n",
      "Loading data from TAB separated file: ./data/RetailRocket/retailrocket_processed_view_train_full.tsv\n",
      "Started training\n",
      "The dataframe is already sorted by SessionId, Time\n",
      "Created sample store with 4882 batches of samples (type=GPU)\n"
     ]
    },
    {
     "name": "stderr",
     "output_type": "stream",
     "text": [
      "2024-01-23 07:19:46.210428: I external/local_tsl/tsl/platform/default/subprocess.cc:304] Start cannot spawn child process: No such file or directory\n"
     ]
    },
    {
     "name": "stdout",
     "output_type": "stream",
     "text": [
      "WARNING:tensorflow:5 out of the last 6931 calls to <function GRU4Rec._training_step at 0x7fbc540d65f0> triggered tf.function retracing. Tracing is expensive and the excessive number of tracings could be due to (1) creating @tf.function repeatedly in a loop, (2) passing tensors with different shapes, (3) passing Python objects instead of tensors. For (1), please define your @tf.function outside of the loop. For (2), @tf.function has reduce_retracing=True option that can avoid unnecessary retracing. For (3), please refer to https://www.tensorflow.org/guide/function#controlling_retracing and https://www.tensorflow.org/api_docs/python/tf/function for  more details.\n",
      "WARNING:tensorflow:6 out of the last 6932 calls to <function GRU4Rec._training_step at 0x7fbc540d65f0> triggered tf.function retracing. Tracing is expensive and the excessive number of tracings could be due to (1) creating @tf.function repeatedly in a loop, (2) passing tensors with different shapes, (3) passing Python objects instead of tensors. For (1), please define your @tf.function outside of the loop. For (2), @tf.function has reduce_retracing=True option that can avoid unnecessary retracing. For (3), please refer to https://www.tensorflow.org/guide/function#controlling_retracing and https://www.tensorflow.org/api_docs/python/tf/function for  more details.\n",
      "Epoch1 --> loss: 0.483206 \t(22.13s) \t[316.11 mb/s | 25059 e/s]\n",
      "Epoch2 --> loss: 0.381117 \t(16.21s) \t[431.62 mb/s | 34216 e/s]\n",
      "Epoch3 --> loss: 0.353320 \t(15.49s) \t[451.77 mb/s | 35814 e/s]\n",
      "Epoch4 --> loss: 0.339228 \t(15.65s) \t[446.98 mb/s | 35434 e/s]\n",
      "Epoch5 --> loss: 0.330015 \t(15.41s) \t[454.00 mb/s | 35990 e/s]\n",
      "Epoch6 --> loss: 0.323434 \t(15.67s) \t[446.34 mb/s | 35383 e/s]\n",
      "Epoch7 --> loss: 0.318407 \t(16.28s) \t[429.81 mb/s | 34073 e/s]\n",
      "Epoch8 --> loss: 0.314366 \t(15.85s) \t[441.28 mb/s | 34981 e/s]\n",
      "Epoch9 --> loss: 0.311128 \t(16.40s) \t[426.52 mb/s | 33812 e/s]\n",
      "Epoch10 --> loss: 0.308320 \t(16.50s) \t[423.88 mb/s | 33603 e/s]\n",
      "Total training time: 166.02s\n",
      "Saving trained model to: ./models/retailrocket.pickle\n",
      "Loading test data...\n",
      "Loading data from TAB separated file: ./data/RetailRocket/retailrocket_processed_view_test.tsv\n",
      "Starting evaluation (cut-off=[1, 5, 10, 20], using standard mode for tiebreaking)\n",
      "Using existing item ID map\n",
      "The dataframe is already sorted by SessionId, Time\n",
      "Evaluation took 2.66s\n",
      "Recall@1: 0.128484 MRR@1: 0.128484\n",
      "Recall@5: 0.324981 MRR@5: 0.198691\n",
      "Recall@10: 0.421583 MRR@10: 0.211562\n",
      "Recall@20: 0.520141 MRR@20: 0.218385\n"
     ]
    }
   ],
   "source": [
    "%run run.py $run_script"
   ]
  }
 ],
 "metadata": {
  "kernelspec": {
   "display_name": "dsm500",
   "language": "python",
   "name": "python3"
  },
  "language_info": {
   "codemirror_mode": {
    "name": "ipython",
    "version": 3
   },
   "file_extension": ".py",
   "mimetype": "text/x-python",
   "name": "python",
   "nbconvert_exporter": "python",
   "pygments_lexer": "ipython3",
   "version": "3.10.13"
  }
 },
 "nbformat": 4,
 "nbformat_minor": 2
}
