{
 "cells": [
  {
   "cell_type": "markdown",
   "metadata": {},
   "source": [
    "# 01-02 : RetailRocket Preprocessing\n",
    "\n",
    "- The preprocessing script in general, executes the following steps:\n",
    "    - Loads the raw data, with correct types\n",
    "    - Creates the sessions\n",
    "    - Removes duplicated items. An item is considered as a duplicate if the preceding (based on time) event in the same session contains the exact same item.\n",
    "    - Performs iterative support filtering\n",
    "        - Removes sessions with only one event\n",
    "        - Removes items with less than 5 events\n",
    "        - Until the size of the dataset changes"
   ]
  },
  {
   "cell_type": "code",
   "execution_count": 1,
   "metadata": {},
   "outputs": [],
   "source": [
    "dataset_path = \"../../data/RetailRocket/\""
   ]
  },
  {
   "cell_type": "code",
   "execution_count": 2,
   "metadata": {},
   "outputs": [
    {
     "name": "stdout",
     "output_type": "stream",
     "text": [
      "2434084 1721538 234838\n",
      "973593 261047 124195\n",
      "828902 242962 39826\n",
      "794204 208264 39793\n",
      "784957 207891 37209\n",
      "781837 204771 37209\n",
      "780685 204724 36903\n",
      "780319 204358 36903\n",
      "780139 204353 36856\n",
      "780076 204290 36856\n",
      "780044 204288 36848\n",
      "780033 204277 36848\n",
      "780031 204277 36847\n",
      "780031 204277 36847\n",
      "780031 204277 36847\n",
      "                                       Dataset  NumEvents  NumSessions  \\\n",
      "0         retailrocket_processed_view_test.tsv      29148         8036   \n",
      "1         retailrocket_processed_view_full.tsv     780031       204277   \n",
      "2     retailrocket_processed_view_train_tr.tsv     716989       186821   \n",
      "3   retailrocket_processed_view_train_full.tsv     750832       196234   \n",
      "4  retailrocket_processed_view_train_valid.tsv      33812         9408   \n",
      "\n",
      "   NumItems     NumDays                   StartTime  \\\n",
      "0     11249    6.998421  2015-09-11 03:01:15.381000   \n",
      "1     36847  137.998819  2015-05-03 03:00:40.988000   \n",
      "2     36725  123.999511  2015-05-03 03:00:40.988000   \n",
      "3     36824  130.999083  2015-05-03 03:00:40.988000   \n",
      "4     12668    6.999157  2015-09-04 03:00:34.595000   \n",
      "\n",
      "                      EndTime  AvgItemViews  MinSessionLength  \\\n",
      "0  2015-09-18 02:58:58.914000      2.591164                 2   \n",
      "1  2015-09-18 02:58:58.914000     21.169457                 2   \n",
      "2  2015-09-04 02:59:58.751000     19.523186                 2   \n",
      "3  2015-09-11 02:59:21.734000     20.389746                 2   \n",
      "4  2015-09-11 02:59:21.734000      2.669087                 2   \n",
      "\n",
      "   MaxSessionLength  AvgSessionLength  MinSessionTime (sec)  \\\n",
      "0               200          3.627178                   0.0   \n",
      "1               260          3.818496                   0.0   \n",
      "2               260          3.837839                   0.0   \n",
      "3               260          3.826207                   0.0   \n",
      "4               147          3.593963                   0.0   \n",
      "\n",
      "   MaxSessionTime (sec)  \n",
      "0             42992.512  \n",
      "1             46604.003  \n",
      "2             46604.003  \n",
      "3             46604.003  \n",
      "4             43014.633  \n"
     ]
    }
   ],
   "source": [
    "%run retailrocket_preproc.py --path $dataset_path"
   ]
  }
 ],
 "metadata": {
  "kernelspec": {
   "display_name": "dsm500",
   "language": "python",
   "name": "python3"
  },
  "language_info": {
   "codemirror_mode": {
    "name": "ipython",
    "version": 3
   },
   "file_extension": ".py",
   "mimetype": "text/x-python",
   "name": "python",
   "nbconvert_exporter": "python",
   "pygments_lexer": "ipython3",
   "version": "3.10.13"
  }
 },
 "nbformat": 4,
 "nbformat_minor": 2
}
