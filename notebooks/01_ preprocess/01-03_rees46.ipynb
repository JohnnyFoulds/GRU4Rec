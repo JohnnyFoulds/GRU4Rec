{
 "cells": [
  {
   "cell_type": "markdown",
   "metadata": {},
   "source": [
    "# 01-03 : Rees46 Preprocessing\n",
    "\n",
    "- The preprocessing script in general, executes the following steps:\n",
    "    - Loads the raw data, with correct types\n",
    "    - Creates the sessions\n",
    "    - Removes duplicated items. An item is considered as a duplicate if the preceding (based on time) event in the same session contains the exact same item.\n",
    "    - Performs iterative support filtering\n",
    "        - Removes sessions with only one event\n",
    "        - Removes items with less than 5 events\n",
    "        - Until the size of the dataset changes"
   ]
  },
  {
   "cell_type": "code",
   "execution_count": 1,
   "metadata": {},
   "outputs": [],
   "source": [
    "dataset_path = \"../../data/Rees46/\""
   ]
  },
  {
   "cell_type": "code",
   "execution_count": 2,
   "metadata": {},
   "outputs": [
    {
     "name": "stdout",
     "output_type": "stream",
     "text": [
      "76324564 5316128 17984974 206876\n"
     ]
    },
    {
     "name": "stderr",
     "output_type": "stream",
     "text": [
      "/media/johnny/swan/code/GRU4Rec/notebooks/01_ preprocess/rees46_preproc.py:81: SettingWithCopyWarning: \n",
      "A value is trying to be set on a copy of a slice from a DataFrame\n",
      "\n",
      "See the caveats in the documentation: https://pandas.pydata.org/pandas-docs/stable/user_guide/indexing.html#returning-a-view-versus-a-copy\n",
      "  view_dedup.drop(\n"
     ]
    },
    {
     "name": "stdout",
     "output_type": "stream",
     "text": [
      "68702669 3376235 10363079 203604\n"
     ]
    },
    {
     "name": "stderr",
     "output_type": "stream",
     "text": [
      "/media/johnny/swan/code/GRU4Rec/notebooks/01_ preprocess/rees46_preproc.py:93: SettingWithCopyWarning: \n",
      "A value is trying to be set on a copy of a slice from a DataFrame\n",
      "\n",
      "See the caveats in the documentation: https://pandas.pydata.org/pandas-docs/stable/user_guide/indexing.html#returning-a-view-versus-a-copy\n",
      "  view_dedup.drop(\n"
     ]
    },
    {
     "name": "stdout",
     "output_type": "stream",
     "text": [
      "68636808 3376094 10362640 172960\n"
     ]
    },
    {
     "name": "stderr",
     "output_type": "stream",
     "text": [
      "/media/johnny/swan/code/GRU4Rec/notebooks/01_ preprocess/rees46_preproc.py:81: SettingWithCopyWarning: \n",
      "A value is trying to be set on a copy of a slice from a DataFrame\n",
      "\n",
      "See the caveats in the documentation: https://pandas.pydata.org/pandas-docs/stable/user_guide/indexing.html#returning-a-view-versus-a-copy\n",
      "  view_dedup.drop(\n"
     ]
    },
    {
     "name": "stdout",
     "output_type": "stream",
     "text": [
      "68631111 3374642 10356943 172960\n"
     ]
    },
    {
     "name": "stderr",
     "output_type": "stream",
     "text": [
      "/media/johnny/swan/code/GRU4Rec/notebooks/01_ preprocess/rees46_preproc.py:93: SettingWithCopyWarning: \n",
      "A value is trying to be set on a copy of a slice from a DataFrame\n",
      "\n",
      "See the caveats in the documentation: https://pandas.pydata.org/pandas-docs/stable/user_guide/indexing.html#returning-a-view-versus-a-copy\n",
      "  view_dedup.drop(\n"
     ]
    },
    {
     "name": "stdout",
     "output_type": "stream",
     "text": [
      "68630598 3374641 10356940 172829\n"
     ]
    },
    {
     "name": "stderr",
     "output_type": "stream",
     "text": [
      "/media/johnny/swan/code/GRU4Rec/notebooks/01_ preprocess/rees46_preproc.py:81: SettingWithCopyWarning: \n",
      "A value is trying to be set on a copy of a slice from a DataFrame\n",
      "\n",
      "See the caveats in the documentation: https://pandas.pydata.org/pandas-docs/stable/user_guide/indexing.html#returning-a-view-versus-a-copy\n",
      "  view_dedup.drop(\n"
     ]
    },
    {
     "name": "stdout",
     "output_type": "stream",
     "text": [
      "68630529 3374625 10356871 172829\n"
     ]
    },
    {
     "name": "stderr",
     "output_type": "stream",
     "text": [
      "/media/johnny/swan/code/GRU4Rec/notebooks/01_ preprocess/rees46_preproc.py:93: SettingWithCopyWarning: \n",
      "A value is trying to be set on a copy of a slice from a DataFrame\n",
      "\n",
      "See the caveats in the documentation: https://pandas.pydata.org/pandas-docs/stable/user_guide/indexing.html#returning-a-view-versus-a-copy\n",
      "  view_dedup.drop(\n"
     ]
    },
    {
     "name": "stdout",
     "output_type": "stream",
     "text": [
      "68630513 3374625 10356871 172825\n"
     ]
    },
    {
     "name": "stderr",
     "output_type": "stream",
     "text": [
      "/media/johnny/swan/code/GRU4Rec/notebooks/01_ preprocess/rees46_preproc.py:81: SettingWithCopyWarning: \n",
      "A value is trying to be set on a copy of a slice from a DataFrame\n",
      "\n",
      "See the caveats in the documentation: https://pandas.pydata.org/pandas-docs/stable/user_guide/indexing.html#returning-a-view-versus-a-copy\n",
      "  view_dedup.drop(\n"
     ]
    },
    {
     "name": "stdout",
     "output_type": "stream",
     "text": [
      "68630512 3374624 10356870 172825\n"
     ]
    },
    {
     "name": "stderr",
     "output_type": "stream",
     "text": [
      "/media/johnny/swan/code/GRU4Rec/notebooks/01_ preprocess/rees46_preproc.py:93: SettingWithCopyWarning: \n",
      "A value is trying to be set on a copy of a slice from a DataFrame\n",
      "\n",
      "See the caveats in the documentation: https://pandas.pydata.org/pandas-docs/stable/user_guide/indexing.html#returning-a-view-versus-a-copy\n",
      "  view_dedup.drop(\n"
     ]
    },
    {
     "name": "stdout",
     "output_type": "stream",
     "text": [
      "68630512 3374624 10356870 172825\n"
     ]
    },
    {
     "name": "stderr",
     "output_type": "stream",
     "text": [
      "/media/johnny/swan/code/GRU4Rec/notebooks/01_ preprocess/rees46_preproc.py:81: SettingWithCopyWarning: \n",
      "A value is trying to be set on a copy of a slice from a DataFrame\n",
      "\n",
      "See the caveats in the documentation: https://pandas.pydata.org/pandas-docs/stable/user_guide/indexing.html#returning-a-view-versus-a-copy\n",
      "  view_dedup.drop(\n"
     ]
    },
    {
     "name": "stdout",
     "output_type": "stream",
     "text": [
      "68630512 3374624 10356870 172825\n"
     ]
    },
    {
     "name": "stderr",
     "output_type": "stream",
     "text": [
      "/media/johnny/swan/code/GRU4Rec/notebooks/01_ preprocess/rees46_preproc.py:93: SettingWithCopyWarning: \n",
      "A value is trying to be set on a copy of a slice from a DataFrame\n",
      "\n",
      "See the caveats in the documentation: https://pandas.pydata.org/pandas-docs/stable/user_guide/indexing.html#returning-a-view-versus-a-copy\n",
      "  view_dedup.drop(\n"
     ]
    },
    {
     "name": "stdout",
     "output_type": "stream",
     "text": [
      "68630512 3374624 10356870 172825\n",
      "                                           Dataset  NumEvents  NumSessions  \\\n",
      "0  rees46_processed_view_userbased_train_valid.tsv    1089021       182789   \n",
      "1     rees46_processed_view_userbased_train_tr.tsv   66485029     10007176   \n",
      "2         rees46_processed_view_userbased_test.tsv    1054210       166841   \n",
      "3         rees46_processed_view_userbased_full.tsv   68630512     10356870   \n",
      "4   rees46_processed_view_userbased_train_full.tsv   67575203     10190006   \n",
      "\n",
      "   NumItems    NumDays                   StartTime  \\\n",
      "0     80618   0.999641  2019-11-29 00:00:29.000000   \n",
      "1    172430  58.999988  2019-10-01 00:00:00.000000   \n",
      "2     79894   0.999954  2019-11-30 00:00:02.000000   \n",
      "3    172825  60.999977  2019-10-01 00:00:00.000000   \n",
      "4    172756  59.999977  2019-10-01 00:00:00.000000   \n",
      "\n",
      "                      EndTime  AvgItemViews  MinSessionLength  \\\n",
      "0  2019-11-29 23:59:58.000000     13.508410                 2   \n",
      "1  2019-11-28 23:59:59.000000    385.576924                 2   \n",
      "2  2019-11-30 23:59:58.000000     13.195109                 2   \n",
      "3  2019-11-30 23:59:58.000000    397.109863                 2   \n",
      "4  2019-11-29 23:59:58.000000    391.159803                 2   \n",
      "\n",
      "   MaxSessionLength  AvgSessionLength  MinSessionTime (sec)  \\\n",
      "0               917          5.957804                     0   \n",
      "1              3783          6.643735                     0   \n",
      "2              1140          6.318651                     0   \n",
      "3              3783          6.626569                     0   \n",
      "4              3783          6.631517                     0   \n",
      "\n",
      "   MaxSessionTime (sec)  \n",
      "0                 28061  \n",
      "1                 63445  \n",
      "2                 29786  \n",
      "3                 63445  \n",
      "4                 63445  \n"
     ]
    }
   ],
   "source": [
    "%run rees46_preproc.py --path $dataset_path"
   ]
  }
 ],
 "metadata": {
  "kernelspec": {
   "display_name": "dsm500",
   "language": "python",
   "name": "python3"
  },
  "language_info": {
   "codemirror_mode": {
    "name": "ipython",
    "version": 3
   },
   "file_extension": ".py",
   "mimetype": "text/x-python",
   "name": "python",
   "nbconvert_exporter": "python",
   "pygments_lexer": "ipython3",
   "version": "3.10.13"
  }
 },
 "nbformat": 4,
 "nbformat_minor": 2
}
