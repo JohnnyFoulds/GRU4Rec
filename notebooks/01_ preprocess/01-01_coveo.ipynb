{
 "cells": [
  {
   "cell_type": "markdown",
   "metadata": {},
   "source": [
    "# 01-01 : Coveo Preprocessing\n",
    "\n",
    "- The preprocessing script in general, executes the following steps:\n",
    "    - Loads the raw data, with correct types\n",
    "    - Creates the sessions\n",
    "    - Removes duplicated items. An item is considered as a duplicate if the preceding (based on time) event in the same session contains the exact same item.\n",
    "    - Performs iterative support filtering\n",
    "        - Removes sessions with only one event\n",
    "        - Removes items with less than 5 events\n",
    "        - Until the size of the dataset changes"
   ]
  },
  {
   "cell_type": "code",
   "execution_count": 1,
   "metadata": {},
   "outputs": [],
   "source": [
    "dataset_path = \"../../data/Coveo/\""
   ]
  },
  {
   "cell_type": "code",
   "execution_count": 2,
   "metadata": {},
   "outputs": [
    {
     "name": "stdout",
     "output_type": "stream",
     "text": [
      "1566074 274797 11365\n",
      "1464757 173480 11344\n",
      "1463706 173480 10869\n",
      "1463649 173423 10869\n",
      "1463645 173423 10868\n",
      "1463645 173423 10868\n",
      "1463645 173423 10868\n",
      "                                Dataset  NumEvents  NumSessions  NumItems  \\\n",
      "0   coveo_processed_view_train_full.tsv    1411113       165673     10868   \n",
      "1     coveo_processed_view_train_tr.tsv    1368003       159766     10868   \n",
      "2  coveo_processed_view_train_valid.tsv      43032         5905      8014   \n",
      "3         coveo_processed_view_test.tsv      52501         7748      8230   \n",
      "4         coveo_processed_view_full.tsv    1463645       173423     10868   \n",
      "\n",
      "     NumDays                   StartTime                     EndTime  \\\n",
      "0  16.999566  2018-12-08 00:00:11.994000  2018-12-24 23:59:34.483000   \n",
      "1  15.999713  2018-12-08 00:00:11.994000  2018-12-23 23:59:47.187000   \n",
      "2   0.997503  2018-12-24 00:03:10.240000  2018-12-24 23:59:34.483000   \n",
      "3   0.998696  2018-12-25 00:01:50.223000  2018-12-25 23:59:57.577000   \n",
      "4  17.999833  2018-12-08 00:00:11.994000  2018-12-25 23:59:57.577000   \n",
      "\n",
      "   AvgItemViews  MinSessionLength  MaxSessionLength  AvgSessionLength  \\\n",
      "0    129.841093                 2               454          8.517459   \n",
      "1    125.874402                 2               454          8.562541   \n",
      "2      5.369603                 2               134          7.287384   \n",
      "3      6.379222                 2               146          6.776071   \n",
      "4    134.674733                 2               454          8.439740   \n",
      "\n",
      "   MinSessionTime (sec)  MaxSessionTime (sec)  \n",
      "0                 0.001             59683.003  \n",
      "1                 0.001             59683.003  \n",
      "2                 0.004             11941.152  \n",
      "3                 0.001             12440.338  \n",
      "4                 0.001             59683.003  \n"
     ]
    }
   ],
   "source": [
    "%run coveo_preproc.py --path $dataset_path"
   ]
  }
 ],
 "metadata": {
  "kernelspec": {
   "display_name": "dsm500",
   "language": "python",
   "name": "python3"
  },
  "language_info": {
   "codemirror_mode": {
    "name": "ipython",
    "version": 3
   },
   "file_extension": ".py",
   "mimetype": "text/x-python",
   "name": "python",
   "nbconvert_exporter": "python",
   "pygments_lexer": "ipython3",
   "version": "3.10.13"
  }
 },
 "nbformat": 4,
 "nbformat_minor": 2
}
